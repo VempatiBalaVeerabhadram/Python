{
 "cells": [
  {
   "cell_type": "code",
   "execution_count": null,
   "id": "66b7a2fa-1698-4b8c-b780-99641c9fac74",
   "metadata": {},
   "outputs": [],
   "source": [
    "#1. Import Pandas and Plotpy and explore their functionalities.\n",
    "import pandas as pd\n",
    "\n",
    "#Pandas Series:\n",
    "import pandas as pd\n",
    "a=[1,2,3]\n",
    "s=pd.series(a)\n",
    "print(s)\n",
    "\n",
    "#Labels:\n",
    "import pandas as pd \n",
    "a=[1,2,3] \n",
    "s=pd.Series(a) \n",
    "print(s[0])\n",
    "\n",
    "#Creating Labels:\n",
    "import pandas as pd\n",
    "a=[1,2,3] \n",
    "s=pd.Series(a,index= 'a','b','c')\n",
    "print(s)\n",
    "\n",
    "#Plotpy\n",
    "import matplotlib.pyplot as plt\n",
    "\n",
    "#Matplotlib Line Plot:\n",
    "#Program:\n",
    "import matplotlib.pyplot as plt\n",
    "import numpy as np\n",
    "xpoints = np.array([0, 6])\n",
    "ypoints = np.array([0, 250])\n",
    "plt.plot(xpoints, ypoints)\n",
    "plt.show()\n"
   ]
  }
 ],
 "metadata": {
  "kernelspec": {
   "display_name": "Python 3 (ipykernel)",
   "language": "python",
   "name": "python3"
  },
  "language_info": {
   "codemirror_mode": {
    "name": "ipython",
    "version": 3
   },
   "file_extension": ".py",
   "mimetype": "text/x-python",
   "name": "python",
   "nbconvert_exporter": "python",
   "pygments_lexer": "ipython3",
   "version": "3.12.4"
  }
 },
 "nbformat": 4,
 "nbformat_minor": 5
}
