{
 "cells": [
  {
   "cell_type": "code",
   "execution_count": 1,
   "id": "5ffff373-8204-4dbe-8316-2e8d7f09556c",
   "metadata": {},
   "outputs": [
    {
     "name": "stdout",
     "output_type": "stream",
     "text": [
      "5 \n",
      "4 4 \n",
      "3 3 3 \n",
      "2 2 2 2 \n",
      "1 1 1 1 1 \n"
     ]
    }
   ],
   "source": [
    "#1. Print the below triangle using for loop.\n",
    "#5\n",
    "#4 4\n",
    "#3 3 3\n",
    "#2 2 2 2\n",
    "#1 1 1 1 1\n",
    "\n",
    "\n",
    "num_rows = 5\n",
    "for i in range(num_rows, 0, -1):\n",
    "    for j in range(num_rows+1,i,-1):\n",
    "        print(i, end=' ')\n",
    "    print()"
   ]
  },
  {
   "cell_type": "code",
   "execution_count": 3,
   "id": "e318df92-0c11-49a2-ae95-bdc151b39074",
   "metadata": {},
   "outputs": [
    {
     "name": "stdin",
     "output_type": "stream",
     "text": [
      "Give input: a\n"
     ]
    },
    {
     "name": "stdout",
     "output_type": "stream",
     "text": [
      "a is lowercase\n"
     ]
    }
   ],
   "source": [
    "#2.Write a program to check whether the given input is digit or lowercase character or uppercase \n",
    "a=input(\"Give input:\")\n",
    "if a>='A' and a<='Z':\n",
    "    print(a,\"is Uppercase\")\n",
    "elif a>='a' and a<='z':\n",
    "    print(a,\"is lowercase\")\n",
    "elif a>=\"1\" and a<=\"9\":\n",
    "    print(a,\"is a digit\")\n",
    "else:\n",
    "    print(a,\"is a special character\")"
   ]
  },
  {
   "cell_type": "code",
   "execution_count": 5,
   "id": "ef6a3f3a-2897-411d-93cd-ece606733664",
   "metadata": {},
   "outputs": [
    {
     "name": "stdout",
     "output_type": "stream",
     "text": [
      "0 1 1 2 3 5 8 13 21 34 "
     ]
    }
   ],
   "source": [
    "#3. Python Program to Print the Fibonacci sequence using while loop\n",
    "n= 10\n",
    "a, b = 0, 1\n",
    "count = 0\n",
    "while count < n:\n",
    "    print(a, end=' ')\n",
    "    a, b = b, a + b\n",
    "    count += 1"
   ]
  },
  {
   "cell_type": "code",
   "execution_count": 7,
   "id": "571a838e-b963-4dc9-9001-e48f53c6c4af",
   "metadata": {},
   "outputs": [
    {
     "name": "stdin",
     "output_type": "stream",
     "text": [
      "Enter the start of the interval:  2\n",
      "Enter the end of the interval:  15\n"
     ]
    },
    {
     "name": "stdout",
     "output_type": "stream",
     "text": [
      "2\n",
      "3\n",
      "5\n",
      "7\n",
      "11\n",
      "13\n"
     ]
    }
   ],
   "source": [
    "#4.Python program to print all prime numbers in a given interval (use break)\n",
    "\n",
    "def print_primes(start, end):\n",
    "    for num in range(start, end + 1):\n",
    "        if num > 1:  # prime numbers are greater than 1\n",
    "            for i in range(2, num):\n",
    "                if num % i == 0:  # if num is divisible by any number between 2 and num-1, it's not prime\n",
    "                    break\n",
    "            else:  # if the loop completes without finding a divisor, num is prime\n",
    "                print(num)\n",
    "\n",
    "start_interval = int(input(\"Enter the start of the interval: \"))\n",
    "end_interval = int(input(\"Enter the end of the interval: \"))\n",
    "\n",
    "print_primes(start_interval, end_interval)"
   ]
  },
  {
   "cell_type": "code",
   "execution_count": 9,
   "id": "b15e4607-00ec-4ccc-abbc-ea3553a8f95d",
   "metadata": {},
   "outputs": [
    {
     "name": "stdin",
     "output_type": "stream",
     "text": [
      " 10\n",
      " 5\n"
     ]
    },
    {
     "name": "stdout",
     "output_type": "stream",
     "text": [
      "10\n"
     ]
    }
   ],
   "source": [
    "#5.Write a program to compute LCM of two numbers by taking input from the user\n",
    "import math\n",
    "a=int(input())\n",
    "b=int(input())\n",
    "c=math.lcm(a,b)\n",
    "print(c)"
   ]
  },
  {
   "cell_type": "code",
   "execution_count": 15,
   "id": "abcc8200-0693-4537-be6d-20a2b5b8dd57",
   "metadata": {},
   "outputs": [
    {
     "ename": "ValueError",
     "evalue": "invalid literal for int() with base 10: '-f'",
     "output_type": "error",
     "traceback": [
      "\u001b[1;31m---------------------------------------------------------------------------\u001b[0m",
      "\u001b[1;31mValueError\u001b[0m                                Traceback (most recent call last)",
      "Cell \u001b[1;32mIn[15], line 11\u001b[0m\n\u001b[0;32m      8\u001b[0m     sys\u001b[38;5;241m.\u001b[39mexit(\u001b[38;5;241m1\u001b[39m)\n\u001b[0;32m     10\u001b[0m \u001b[38;5;66;03m# Convert the command line arguments to integers\u001b[39;00m\n\u001b[1;32m---> 11\u001b[0m num1 \u001b[38;5;241m=\u001b[39m \u001b[38;5;28mint\u001b[39m(sys\u001b[38;5;241m.\u001b[39margv[\u001b[38;5;241m1\u001b[39m])\n\u001b[0;32m     12\u001b[0m num2 \u001b[38;5;241m=\u001b[39m \u001b[38;5;28mint\u001b[39m(sys\u001b[38;5;241m.\u001b[39margv[\u001b[38;5;241m2\u001b[39m])\n\u001b[0;32m     14\u001b[0m \u001b[38;5;66;03m# Calculate and print the sum\u001b[39;00m\n",
      "\u001b[1;31mValueError\u001b[0m: invalid literal for int() with base 10: '-f'"
     ]
    }
   ],
   "source": [
    "# 6. Write a program add.py that takes 2 numbers as command line arguments and print its sum\n",
    "\n",
    "import sys\n",
    "\n",
    "# Check if the correct number of command line arguments are provided\n",
    "if len(sys.argv) != 3:\n",
    "    print(\"Usage: python add.py <number1> <number2>\")\n",
    "    sys.exit(1)\n",
    "\n",
    "# Convert the command line arguments to integers\n",
    "num1 = int(sys.argv[1])\n",
    "num2 = int(sys.argv[2])\n",
    "\n",
    "# Calculate and print the sum\n",
    "sum = num1 + num2\n",
    "print(\"The sum of\", num1, \"and\", num2, \"is\", sum)"
   ]
  },
  {
   "cell_type": "code",
   "execution_count": null,
   "id": "c591b426-85b1-40ec-bf61-544afb93806b",
   "metadata": {},
   "outputs": [],
   "source": []
  }
 ],
 "metadata": {
  "kernelspec": {
   "display_name": "Python 3 (ipykernel)",
   "language": "python",
   "name": "python3"
  },
  "language_info": {
   "codemirror_mode": {
    "name": "ipython",
    "version": 3
   },
   "file_extension": ".py",
   "mimetype": "text/x-python",
   "name": "python",
   "nbconvert_exporter": "python",
   "pygments_lexer": "ipython3",
   "version": "3.12.4"
  }
 },
 "nbformat": 4,
 "nbformat_minor": 5
}
