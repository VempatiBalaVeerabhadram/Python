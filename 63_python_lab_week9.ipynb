{
 "cells": [
  {
   "cell_type": "code",
   "execution_count": 1,
   "id": "5aabd0e6-8dc1-48ba-95e4-4b4664882887",
   "metadata": {},
   "outputs": [
    {
     "name": "stdout",
     "output_type": "stream",
     "text": [
      "[10 20 30 40 50]\n",
      "<class 'numpy.ndarray'>\n"
     ]
    }
   ],
   "source": [
    "#1. Import numpy, and explore their functionalities. \n",
    "#Import NumPy:\n",
    "import numpy as np\n",
    "\n",
    "#Functionalities:\n",
    "\n",
    "#Creating Arrays:\n",
    "#Program:\n",
    "import numpy as np \n",
    "arr1 = np.array([10,20,30,40,50]) \n",
    "print(arr1)\n",
    "print(type(arr1)) \n"
   ]
  },
  {
   "cell_type": "code",
   "execution_count": 3,
   "id": "32d9fb9f-5103-4a51-94e2-c3b9e3c08b41",
   "metadata": {},
   "outputs": [
    {
     "name": "stdout",
     "output_type": "stream",
     "text": [
      "[1 2 3 4 5]\n",
      "1\n"
     ]
    }
   ],
   "source": [
    "#1-D Arrays\n",
    "#Program:\n",
    "import numpy as np\n",
    "arr = np.array([1, 2, 3, 4, 5])  \n",
    "print(arr)\n",
    "print(arr[0])\n"
   ]
  },
  {
   "cell_type": "code",
   "execution_count": 5,
   "id": "195da696-255c-40e6-8e93-7627e12ac7c2",
   "metadata": {},
   "outputs": [
    {
     "name": "stdout",
     "output_type": "stream",
     "text": [
      "[[1 2 3]\n",
      " [4 5 6]]\n",
      "5\n",
      "[4 5 6]\n"
     ]
    }
   ],
   "source": [
    "#2-D Arrays\n",
    "#Program:\n",
    "import numpy as np \n",
    "arr = np.array([[1, 2, 3], [4, 5, 6]]) \n",
    "print(arr) \n",
    "print(arr[1][1]) \n",
    "print(arr[1])\n"
   ]
  },
  {
   "cell_type": "code",
   "execution_count": 7,
   "id": "8a88a340-5384-45a2-a6d7-7f6b1d8c6bc3",
   "metadata": {},
   "outputs": [
    {
     "name": "stdout",
     "output_type": "stream",
     "text": [
      "2\n"
     ]
    }
   ],
   "source": [
    "#Dimension\n",
    "#Program:\n",
    "import numpy as np \n",
    "arr = np.array([[1, 2, 3], [4, 5, 6]]) \n",
    "print(arr.ndim) \n"
   ]
  },
  {
   "cell_type": "code",
   "execution_count": 9,
   "id": "7d1eeef2-8862-408b-8d23-58f89853e195",
   "metadata": {},
   "outputs": [
    {
     "name": "stdout",
     "output_type": "stream",
     "text": [
      "4\n"
     ]
    }
   ],
   "source": [
    "#Size of each element (in bytes)\n",
    "\n",
    "import numpy as np \n",
    "arr = np.array([[1, 2, 3], [4, 5, 6]]) \n",
    "print(arr.itemsize) \n",
    "\n"
   ]
  },
  {
   "cell_type": "code",
   "execution_count": 11,
   "id": "aa140c1b-3fe6-465f-9c66-824169ed30f9",
   "metadata": {},
   "outputs": [
    {
     "name": "stdout",
     "output_type": "stream",
     "text": [
      "int32\n"
     ]
    }
   ],
   "source": [
    "#Datatype\n",
    "#Program:\n",
    "import numpy as np \n",
    "arr = np.array([[1, 2, 3], [4, 5, 6]]) \n",
    "print(arr.dtype) \n"
   ]
  },
  {
   "cell_type": "code",
   "execution_count": 13,
   "id": "88ed9f41-8ffe-4616-a930-026e5cc67b6c",
   "metadata": {},
   "outputs": [
    {
     "name": "stdout",
     "output_type": "stream",
     "text": [
      "6\n",
      "(2, 3)\n"
     ]
    }
   ],
   "source": [
    "#Size and Shape\n",
    "#Program:\n",
    "import numpy as np \n",
    "arr = np.array([[1, 2, 3], [4, 5, 6]]) \n",
    "print(arr.size) \n",
    "print(arr.shape) \n"
   ]
  },
  {
   "cell_type": "code",
   "execution_count": 15,
   "id": "bbd98bf9-6402-4fb3-94db-89b04fb20468",
   "metadata": {},
   "outputs": [],
   "source": [
    "#Reshape Program:\n",
    "import numpy as np \n",
    "arr = np.array([[1, 2, 3], [4, 5, 6]]) \n",
    "a=arr.reshape(3,2)\n",
    "\n"
   ]
  },
  {
   "cell_type": "code",
   "execution_count": 17,
   "id": "2cd8fdd0-eadc-4430-a0e4-b0ec52d92b1b",
   "metadata": {},
   "outputs": [
    {
     "name": "stdout",
     "output_type": "stream",
     "text": [
      "1\n",
      "6\n",
      "21\n"
     ]
    }
   ],
   "source": [
    "#Min/Max/Sum Program:\n",
    "import numpy as np \n",
    "arr = np.array([[1, 2, 3], [4, 5, 6]]) \n",
    "print(arr.min())\n",
    "print(arr.max())\n",
    "print(arr.sum())\n"
   ]
  },
  {
   "cell_type": "code",
   "execution_count": 19,
   "id": "1520f982-5dee-436d-a810-6bf987cfa5d2",
   "metadata": {},
   "outputs": [
    {
     "name": "stdout",
     "output_type": "stream",
     "text": [
      "[2 3 4 5]\n",
      "[5 6 7]\n",
      "[1 2 3 4]\n",
      "[5 6]\n",
      "[2 4]\n",
      "[1 3 5 7]\n"
     ]
    }
   ],
   "source": [
    "#3. Write a program for slicing arrays using numpy .\n",
    "#Program:\n",
    "import numpy as np\n",
    "arr = np.array([1, 2, 3, 4, 5, 6, 7]) \n",
    "print(arr[1:5]) \n",
    "print(arr[4:]) \n",
    "print(arr[:4]) \n",
    "print(arr[-3:-1]) \n",
    "print(arr[1:5:2])\n",
    "print(arr[::2])\n"
   ]
  },
  {
   "cell_type": "code",
   "execution_count": 21,
   "id": "ca40a526-dbc2-4fcf-a5ed-d824271655dd",
   "metadata": {},
   "outputs": [
    {
     "name": "stdout",
     "output_type": "stream",
     "text": [
      "[[1.         1.41421356 1.73205081]\n",
      " [2.         2.23606798 2.44948974]]\n",
      "1.707825127659933\n"
     ]
    }
   ],
   "source": [
    "#4. Write a program for Math operations on array using numpy. \n",
    "#•\tSquare Root and Standard Deviation\n",
    "#Program:\n",
    "import numpy as np\n",
    "arr=np.array([[1,2,3],[4,5,6]])\n",
    "print(np.sqrt(arr))\n",
    "print(np.std(arr))\n"
   ]
  },
  {
   "cell_type": "code",
   "execution_count": 23,
   "id": "e4d07aa7-5e15-4280-8cb4-6f04006e7a0c",
   "metadata": {},
   "outputs": [
    {
     "name": "stdout",
     "output_type": "stream",
     "text": [
      "[[ 2  4  6]\n",
      " [ 8 10 12]]\n",
      "[[0 0 0]\n",
      " [0 0 0]]\n",
      "[[ 1  4  9]\n",
      " [16 25 36]]\n",
      "[[1. 1. 1.]\n",
      " [1. 1. 1.]]\n"
     ]
    }
   ],
   "source": [
    "#Addition, subtraction, multiplication and division of the two matrices\n",
    "#Program:\n",
    "import numpy as np\n",
    "arr1=np.array([[1,2,3],[4,5,6]])\n",
    "arr2=np.array([[1,2,3],[4,5,6]])\n",
    "print(arr1+arr2)\n",
    "print(arr1-arr2)\n",
    "print(arr1*arr2)\n",
    "print(arr1/arr2)\n"
   ]
  },
  {
   "cell_type": "code",
   "execution_count": 25,
   "id": "4e564def-f8a7-453c-b617-29cf3fb40491",
   "metadata": {},
   "outputs": [
    {
     "name": "stdout",
     "output_type": "stream",
     "text": [
      "vstack: [[ 1  2  3]\n",
      " [ 4  5  6]\n",
      " [ 7  8  9]\n",
      " [10 11 12]]\n",
      "hstack: [[ 1  2  3  7  8  9]\n",
      " [ 4  5  6 10 11 12]]\n"
     ]
    }
   ],
   "source": [
    "#•\tVertical and Horizontal Stacking\n",
    "#Program:\n",
    "import numpy as np\n",
    "arr1=np.array([[1,2,3],[4,5,6]])\n",
    "arr2=np.array([[7,8,9],[10,11,12]])\n",
    "print(\"vstack:\",np.vstack((arr1,arr2)))\n",
    "print(\"hstack:\",np.hstack((arr1,arr2)))\n"
   ]
  },
  {
   "cell_type": "code",
   "execution_count": 27,
   "id": "a12562f4-0473-42a8-81cb-2140b8ff58d7",
   "metadata": {},
   "outputs": [
    {
     "name": "stdout",
     "output_type": "stream",
     "text": [
      "(array([2], dtype=int64),)\n"
     ]
    }
   ],
   "source": [
    "#5. Write a program for searching .\n",
    "#Program:\n",
    "import numpy as np\n",
    "arr = np.array([10, 32, 30, 50, 20, 82, 91, 45])\n",
    "i = np.where(arr == 30)\n",
    "print(i)\n"
   ]
  },
  {
   "cell_type": "code",
   "execution_count": 29,
   "id": "0ce29db4-7b76-4b1e-a2c0-aad95e10dd17",
   "metadata": {},
   "outputs": [
    {
     "name": "stdout",
     "output_type": "stream",
     "text": [
      "[[ 1  2  3  4]\n",
      " [ 1  9 13 61]\n",
      " [22 24 43 88]]\n"
     ]
    }
   ],
   "source": [
    "#6. Write a program for sorting.\n",
    "#Program:\n",
    "import numpy as np  \n",
    "arr=np.array([[1,4,2,3],[9,13,61,1],[43,24,88,22]])  \n",
    "sort_arr=np.sort(arr)  \n",
    "print(sort_arr)\n"
   ]
  },
  {
   "cell_type": "code",
   "execution_count": null,
   "id": "8fb1b3e4-b552-4c89-b116-95b5acf4f605",
   "metadata": {},
   "outputs": [],
   "source": []
  }
 ],
 "metadata": {
  "kernelspec": {
   "display_name": "Python 3 (ipykernel)",
   "language": "python",
   "name": "python3"
  },
  "language_info": {
   "codemirror_mode": {
    "name": "ipython",
    "version": 3
   },
   "file_extension": ".py",
   "mimetype": "text/x-python",
   "name": "python",
   "nbconvert_exporter": "python",
   "pygments_lexer": "ipython3",
   "version": "3.12.4"
  }
 },
 "nbformat": 4,
 "nbformat_minor": 5
}
