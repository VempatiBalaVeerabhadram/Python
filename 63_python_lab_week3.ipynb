{
 "cells": [
  {
   "cell_type": "code",
   "execution_count": 1,
   "id": "17e735be-b5d1-4643-b488-3cdd46eafa2b",
   "metadata": {},
   "outputs": [
    {
     "name": "stdout",
     "output_type": "stream",
     "text": [
      "3\n"
     ]
    }
   ],
   "source": [
    "l1 = [\"apple\", \"banana\", \"cherry\"]\n",
    "print(len(l1))"
   ]
  },
  {
   "cell_type": "code",
   "execution_count": 3,
   "id": "ba96a6e6-f873-484d-91c1-d9d203a7944f",
   "metadata": {},
   "outputs": [
    {
     "name": "stdout",
     "output_type": "stream",
     "text": [
      "['__add__', '__class__', '__class_getitem__', '__contains__', '__delattr__', '__delitem__', '__dir__', '__doc__', '__eq__', '__format__', '__ge__', '__getattribute__', '__getitem__', '__getstate__', '__gt__', '__hash__', '__iadd__', '__imul__', '__init__', '__init_subclass__', '__iter__', '__le__', '__len__', '__lt__', '__mul__', '__ne__', '__new__', '__reduce__', '__reduce_ex__', '__repr__', '__reversed__', '__rmul__', '__setattr__', '__setitem__', '__sizeof__', '__str__', '__subclasshook__', 'append', 'clear', 'copy', 'count', 'extend', 'index', 'insert', 'pop', 'remove', 'reverse', 'sort']\n"
     ]
    }
   ],
   "source": [
    "dir(list)\n",
    "print(dir(list))"
   ]
  },
  {
   "cell_type": "code",
   "execution_count": 5,
   "id": "84a7fa68-d2e1-4a01-831c-2fbdf841416d",
   "metadata": {},
   "outputs": [
    {
     "name": "stdout",
     "output_type": "stream",
     "text": [
      "[8, 5, 4, 3, 1]\n"
     ]
    }
   ],
   "source": [
    "a=[1,3,4,5,8]\n",
    "a.reverse()\n",
    "print(a)"
   ]
  },
  {
   "cell_type": "code",
   "execution_count": 7,
   "id": "14a052b1-a8d3-4e12-b0dd-c203977a8047",
   "metadata": {},
   "outputs": [
    {
     "data": {
      "text/plain": [
       "3"
      ]
     },
     "execution_count": 7,
     "metadata": {},
     "output_type": "execute_result"
    }
   ],
   "source": [
    "a.index(3)"
   ]
  },
  {
   "cell_type": "code",
   "execution_count": 9,
   "id": "8d7a2d5e-66e6-4b66-a25f-e3a512d88035",
   "metadata": {},
   "outputs": [
    {
     "name": "stdout",
     "output_type": "stream",
     "text": [
      "[1, 3, 4, 5, 8]\n"
     ]
    }
   ],
   "source": [
    "a.sort()\n",
    "print(a)"
   ]
  },
  {
   "cell_type": "code",
   "execution_count": 11,
   "id": "068eec5f-51db-4176-90fb-1f7343653f45",
   "metadata": {},
   "outputs": [
    {
     "name": "stdout",
     "output_type": "stream",
     "text": [
      "[8, 5, 4, 3, 1]\n"
     ]
    }
   ],
   "source": [
    "print(a[::-1])"
   ]
  },
  {
   "cell_type": "code",
   "execution_count": 13,
   "id": "f0f0b1c5-908f-4bfb-8a5e-ecb14a99ac15",
   "metadata": {},
   "outputs": [
    {
     "name": "stdout",
     "output_type": "stream",
     "text": [
      "['apple', 'blackcurrant', 'watermelon', 'cherry']\n"
     ]
    }
   ],
   "source": [
    "thislist = [\"apple\", \"banana\", \"cherry\"]\n",
    "thislist[1:2] = [\"blackcurrant\", \"watermelon\"]\n",
    "print(thislist) "
   ]
  },
  {
   "cell_type": "code",
   "execution_count": 15,
   "id": "beffe2f4-508c-4d7e-b5d6-5aadf1817623",
   "metadata": {},
   "outputs": [
    {
     "name": "stdout",
     "output_type": "stream",
     "text": [
      "[1, 10, 2, 3, 4]\n"
     ]
    }
   ],
   "source": [
    "p=[1,2,3,4]\n",
    "p.insert(1,10)\n",
    "print(p)"
   ]
  },
  {
   "cell_type": "code",
   "execution_count": 17,
   "id": "b91546da-4fff-49e7-abef-b5db3f6d2f5e",
   "metadata": {},
   "outputs": [
    {
     "data": {
      "text/plain": [
       "list"
      ]
     },
     "execution_count": 17,
     "metadata": {},
     "output_type": "execute_result"
    }
   ],
   "source": [
    "s=[1,2,3,3,2,1]\n",
    "type(s)"
   ]
  },
  {
   "cell_type": "code",
   "execution_count": 19,
   "id": "27725e47-54f9-4748-bb04-2031ce348a21",
   "metadata": {},
   "outputs": [
    {
     "name": "stdout",
     "output_type": "stream",
     "text": [
      "{1, 2, 3}\n"
     ]
    }
   ],
   "source": [
    "q=set(s)\n",
    "print(q)"
   ]
  },
  {
   "cell_type": "code",
   "execution_count": 21,
   "id": "60ba80c2-4dcc-41b3-ad07-e92d0ebc71a8",
   "metadata": {},
   "outputs": [
    {
     "name": "stdout",
     "output_type": "stream",
     "text": [
      "['1', '2.5', '3', 'apple', 'banana']\n"
     ]
    }
   ],
   "source": [
    "my_list = [3, 'apple', 2.5, 'banana', 1]\n",
    "str_list = [str(item) for item in my_list]\n",
    "str_list.sort()\n",
    "print(str_list)"
   ]
  },
  {
   "cell_type": "code",
   "execution_count": 23,
   "id": "857baa4f-fb31-4748-b0de-23fc810ee198",
   "metadata": {},
   "outputs": [
    {
     "name": "stdout",
     "output_type": "stream",
     "text": [
      "{'brand': 'Ford', 'model': 'Mustang', 'year': 1964}\n"
     ]
    }
   ],
   "source": [
    "thisdict = {\n",
    "  \"brand\": \"Ford\",\n",
    "  \"model\": \"Mustang\",\n",
    "  \"year\": 1964\n",
    "}\n",
    "print(thisdict)"
   ]
  },
  {
   "cell_type": "code",
   "execution_count": 25,
   "id": "b45e3cf0-8566-4e06-9817-a20a6a2bd885",
   "metadata": {},
   "outputs": [
    {
     "name": "stdout",
     "output_type": "stream",
     "text": [
      "Array from list: [1 2 3 4 5]\n",
      "Array from tuple: [10 20 30 40 50]\n"
     ]
    }
   ],
   "source": [
    "#1. i) Write a program to convert a list and tuple into arrays\n",
    "import numpy as np\n",
    "my_list = [1, 2, 3, 4, 5]\n",
    "my_tuple = (10, 20, 30, 40, 50)\n",
    "list_array = np.array(my_list)\n",
    "tuple_array = np.array(my_tuple)\n",
    "print(\"Array from list:\", list_array)\n",
    "print(\"Array from tuple:\", tuple_array)\n"
   ]
  },
  {
   "cell_type": "code",
   "execution_count": 27,
   "id": "dc437429-6a29-45b3-ad09-0ac0fcaf5288",
   "metadata": {},
   "outputs": [
    {
     "name": "stdout",
     "output_type": "stream",
     "text": [
      "Common values: [4, 5]\n"
     ]
    }
   ],
   "source": [
    "#1 ii)Write a program to find common values between two arrays\n",
    "list1 = [1, 2, 3, 4, 5]\n",
    "list2 = [4, 5, 6, 7, 8]\n",
    "\n",
    "set1 = set(list1)\n",
    "set2 = set(list2)\n",
    "\n",
    "common_values = set1 & set2\n",
    "\n",
    "common_values_list = list(common_values)\n",
    "\n",
    "print(\"Common values:\", common_values_list)\n"
   ]
  },
  {
   "cell_type": "code",
   "execution_count": 29,
   "id": "81465a72-f7c2-4ea9-bd1a-9d7aeebbe9ad",
   "metadata": {},
   "outputs": [
    {
     "name": "stdout",
     "output_type": "stream",
     "text": [
      "The GCD of 48 and 18 is 6\n"
     ]
    }
   ],
   "source": [
    "#2. Write a function called gcd that takes parameters a and b and returns their greatest common divisor\n",
    "import math\n",
    "\n",
    "def gcd(a, b):\n",
    "    return math.gcd(a, b)\n",
    "\n",
    "num1 = 48\n",
    "num2 = 18\n",
    "print(f\"The GCD of {num1} and {num2} is {gcd(num1, num2)}\")\n"
   ]
  },
  {
   "cell_type": "code",
   "execution_count": 31,
   "id": "33f759e7-6d10-43ff-9dca-d92b0c23ee16",
   "metadata": {},
   "outputs": [
    {
     "name": "stdout",
     "output_type": "stream",
     "text": [
      "palindrome\n"
     ]
    }
   ],
   "source": [
    "#3.Palindrome\n",
    "def palindrome(s):\n",
    "    s = s.lower()\n",
    "    s = s.replace(\" \", \"\")\n",
    "    s1=s[::-1]\n",
    "    if s==s1:\n",
    "        print(\"palindrome\")\n",
    "    else:\n",
    "        print(\"not palindrome\")\n",
    "\n",
    "test_string = \"racecar\"\n",
    "palindrome(test_string)"
   ]
  },
  {
   "cell_type": "code",
   "execution_count": 33,
   "id": "13e5827f-9442-4956-8374-a0fa646e354d",
   "metadata": {},
   "outputs": [
    {
     "name": "stdout",
     "output_type": "stream",
     "text": [
      "MEAN= 38.57142857142857\n",
      "MEDIAN= 40\n",
      "MODE= 60\n"
     ]
    }
   ],
   "source": [
    "#4. Find mean, median, mode for the given set of numbers in a list.\n",
    "import statistics\n",
    "list3=[10,20,30,40,50,60,60]\n",
    "list3_mean=statistics.mean(list3)\n",
    "list3_median=statistics.median(list3)\n",
    "list3_mode=statistics.mode(list3)\n",
    "print(f\"MEAN= {list3_mean}\")\n",
    "print(f\"MEDIAN= {list3_median}\")\n",
    "print(f\"MODE= {list3_mode}\")"
   ]
  },
  {
   "cell_type": "code",
   "execution_count": 35,
   "id": "31da9d51-e45e-4861-bfc3-f6311dcedb5c",
   "metadata": {},
   "outputs": [
    {
     "name": "stdout",
     "output_type": "stream",
     "text": [
      "(478, 456, 98)\n",
      "<class 'tuple'>\n"
     ]
    }
   ],
   "source": [
    "# 5. Write a Python program to create a tuple.\n",
    "tuple1=(478,456,98)\n",
    "print(tuple1)\n",
    "print(type(tuple1))\n"
   ]
  },
  {
   "cell_type": "code",
   "execution_count": 37,
   "id": "ed1bced2-7ff8-4c0b-8d21-71eb2f5df666",
   "metadata": {},
   "outputs": [
    {
     "name": "stdout",
     "output_type": "stream",
     "text": [
      "('hello', 123, True)\n"
     ]
    }
   ],
   "source": [
    "# 6. Write a Python program to create a tuple with different data types.\n",
    "tuple2=(\"hello\",123,True)\n",
    "print(tuple2)"
   ]
  },
  {
   "cell_type": "code",
   "execution_count": 39,
   "id": "c44b45f1-33b4-4081-bf09-59ad00802eb3",
   "metadata": {},
   "outputs": [
    {
     "name": "stdout",
     "output_type": "stream",
     "text": [
      "True\n"
     ]
    }
   ],
   "source": [
    "# 7. Write a Python program to check whether an element exists within a tuple.\n",
    "tuple3=(\"hi\",1,2,3,False)\n",
    "print(\"hi\" in tuple3)"
   ]
  },
  {
   "cell_type": "code",
   "execution_count": null,
   "id": "356b613a-1b80-45ab-9707-3767af730452",
   "metadata": {},
   "outputs": [],
   "source": []
  }
 ],
 "metadata": {
  "kernelspec": {
   "display_name": "Python 3 (ipykernel)",
   "language": "python",
   "name": "python3"
  },
  "language_info": {
   "codemirror_mode": {
    "name": "ipython",
    "version": 3
   },
   "file_extension": ".py",
   "mimetype": "text/x-python",
   "name": "python",
   "nbconvert_exporter": "python",
   "pygments_lexer": "ipython3",
   "version": "3.12.4"
  }
 },
 "nbformat": 4,
 "nbformat_minor": 5
}
